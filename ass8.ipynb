{
 "cells": [
  {
   "cell_type": "code",
   "execution_count": 1,
   "id": "55253308-b261-4d11-8487-630c182a2da4",
   "metadata": {},
   "outputs": [],
   "source": [
    "#example for inheritance\n",
    "class Cricket(object):            \n",
    "    def __init__(self, Name, points):    \n",
    "        self.Name = Name\n",
    "        self.points = points   \n",
    "    def display(self):\n",
    "        print(self.Name)\n",
    "        print(self.points)\n",
    "    def details(self):\n",
    "        print(\"TEAM:{}\".format(self.Name))\n",
    "        print(\"Points:{}\".format(self.points))\n",
    "        "
   ]
  },
  {
   "cell_type": "code",
   "execution_count": 2,
   "id": "e8c96a9c-0218-468c-83bd-b804ed3c357c",
   "metadata": {},
   "outputs": [],
   "source": [
    "class Team(Cricket):\n",
    "    def __init__(self, Name, points, Wins, Loss):\n",
    "        self.Wins = Wins\n",
    "        self.Loss = Loss\n",
    "        Cricket.__init__(self, Name, points)\n",
    "    def details(self):\n",
    "        print(\"TEAM:{}\".format(self.Name))\n",
    "        print(\"Points:{}\".format(self.points))\n",
    "        print(\"wins:{}\".format(self.Wins))\n",
    "        print(\"Loss:{}\".format(self.Loss))\n",
    "        \n",
    "    \n"
   ]
  },
  {
   "cell_type": "code",
   "execution_count": 3,
   "id": "1e13367e-1395-48b9-ba71-8e6f7d4fb1ee",
   "metadata": {},
   "outputs": [
    {
     "name": "stdout",
     "output_type": "stream",
     "text": [
      "India\n",
      "20\n",
      "TEAM:India\n",
      "Points:20\n",
      "wins:10\n",
      "Loss:0\n"
     ]
    }
   ],
   "source": [
    "a=Team(\"India\",\"20\",\"10\",\"0\")\n",
    "a.display()\n",
    "a.details()\n"
   ]
  },
  {
   "cell_type": "code",
   "execution_count": 4,
   "id": "ded3a86f-fc47-4eba-a0af-b5c03c0d393f",
   "metadata": {},
   "outputs": [],
   "source": [
    "#example for polymorphism\n",
    "class Pen:\n",
    "    def __init__(self):\n",
    "        print(\"there are many pens\")\n",
    "    def write(self):\n",
    "        print(\"we can write using the pen\")\n",
    "          \n",
    "    "
   ]
  },
  {
   "cell_type": "code",
   "execution_count": 5,
   "id": "dc03a885-1987-44cd-9c59-2ee0b3711698",
   "metadata": {},
   "outputs": [],
   "source": [
    "class inkpen(Pen):\n",
    "    def write(self):\n",
    "        print(\"ink pen writes smoothly\")\n",
    "class gelpen(Pen):\n",
    "    def write(self):\n",
    "        print(\"gel pen writes neatly\")       "
   ]
  },
  {
   "cell_type": "code",
   "execution_count": 7,
   "id": "d5b26852-15fe-4eda-be63-eec6b7cdbfad",
   "metadata": {},
   "outputs": [
    {
     "name": "stdout",
     "output_type": "stream",
     "text": [
      "there are many pens\n",
      "there are many pens\n",
      "there are many pens\n",
      "we can write using the pen\n",
      "ink pen writes smoothly\n",
      "gel pen writes neatly\n"
     ]
    }
   ],
   "source": [
    "obj_p = Pen()\n",
    "obj_i =inkpen()\n",
    "obj_g = gelpen()\n",
    "obj_p.write()\n",
    "obj_i.write()\n",
    "obj_g.write()\n",
    "\n"
   ]
  },
  {
   "cell_type": "code",
   "execution_count": null,
   "id": "65b6a934-c7e5-4e8d-88e0-bae9b38b96f0",
   "metadata": {},
   "outputs": [],
   "source": []
  }
 ],
 "metadata": {
  "kernelspec": {
   "display_name": "Python 3 (ipykernel)",
   "language": "python",
   "name": "python3"
  },
  "language_info": {
   "codemirror_mode": {
    "name": "ipython",
    "version": 3
   },
   "file_extension": ".py",
   "mimetype": "text/x-python",
   "name": "python",
   "nbconvert_exporter": "python",
   "pygments_lexer": "ipython3",
   "version": "3.8.10"
  }
 },
 "nbformat": 4,
 "nbformat_minor": 5
}
