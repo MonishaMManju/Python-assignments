{
 "cells": [
  {
   "cell_type": "code",
   "execution_count": null,
   "id": "12ae37a3-f268-4fd4-a189-0c4074ce2559",
   "metadata": {},
   "outputs": [],
   "source": [
    "from werkzeug.wrappers import Request,Response\n",
    "from flask import Flask,jsonify,request\n",
    "app=Flask(__name__)\n",
    "@app.route('/',methods=['GET', 'POST'])\n",
    "def home():\n",
    "    if(request.method == 'GET'):\n",
    "        data=\"HELLO!\"\n",
    "        return jsonify({'data':data})\n",
    "@app.route('/home/sqr/<int:num>',methods=['GET'])\n",
    "def sqr(num):\n",
    "    return jsonify({'square':num**2})\n",
    "@app.route('/home/cube/<int:num>',methods=['GET'])\n",
    "def cube(num):\n",
    "    return jsonify({'cube':num**3})\n",
    "@app.route('/home/interest/<int:num1>/<int:num2>/<int:num3>',methods=['GET'])\n",
    "def interest(num1,num2,num3):\n",
    "    return jsonify({'simple interest':(num1*num2*num3)/100})\n",
    "if __name__ =='__main__':\n",
    "    from werkzeug.serving import run_simple\n",
    "    run_simple('localhost',9000,app)"
   ]
  },
  {
   "cell_type": "code",
   "execution_count": null,
   "id": "aa9d3c3a-8329-4d90-9027-e031aaf2396c",
   "metadata": {},
   "outputs": [],
   "source": []
  },
  {
   "cell_type": "code",
   "execution_count": null,
   "id": "b4083e74-fb79-4cd9-a7b2-988311a3e35e",
   "metadata": {},
   "outputs": [],
   "source": []
  }
 ],
 "metadata": {
  "kernelspec": {
   "display_name": "Python 3 (ipykernel)",
   "language": "python",
   "name": "python3"
  },
  "language_info": {
   "codemirror_mode": {
    "name": "ipython",
    "version": 3
   },
   "file_extension": ".py",
   "mimetype": "text/x-python",
   "name": "python",
   "nbconvert_exporter": "python",
   "pygments_lexer": "ipython3",
   "version": "3.8.10"
  }
 },
 "nbformat": 4,
 "nbformat_minor": 5
}
