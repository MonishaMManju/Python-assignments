{
 "cells": [
  {
   "cell_type": "code",
   "execution_count": 5,
   "id": "eee182ef-bd7c-487c-b1a4-ed22dd78de92",
   "metadata": {},
   "outputs": [
    {
     "name": "stdout",
     "output_type": "stream",
     "text": [
      "<Response [200]>\n",
      "\n",
      "<!DOCTYPE html>\n",
      "<html lang=\"en\">\n",
      "  <head>\n",
      "  <meta charset=\"utf-8\">\n",
      "  <meta content=\"width=300, initial-scale=1\" name=\"viewport\">\n",
      "  <meta name=\"description\" content=\"Gmail is email that&#39;s intuitive, efficient and useful. 15 GB of storage, less spam and mobile access.\">\n",
      "  <meta name=\"google-site-verification\" content=\"LrdTUW9psUAMbh4Ia074-BPEVmcpBxF6Gwf0MSgQXZs\">\n",
      "  <title>Gmail</title>\n",
      "  <style>\n",
      "  @font-face {\n",
      "  font-family: 'Open Sans';\n",
      "  font-style: normal;\n",
      "  font-weight: 300;\n",
      "  src: url(//fonts.gstatic.com/s/opensans/v15/mem5YaGs126MiZpBA-UN_r8OUuhs.ttf) format('truetype');\n",
      "}\n",
      "@font-face {\n",
      "  font-family: 'Open Sans';\n",
      "  font-style: normal;\n",
      "  font-weight: 400;\n",
      "  src: url(//fonts.gstatic.com/s/opensans/v15/mem8YaGs126MiZpBA-UFVZ0e.ttf) format('truetype');\n",
      "}\n",
      "  </style>\n",
      "  <style>\n",
      "  h1, h2 {\n",
      "  -webkit-animation-duration: 0.1s;\n",
      "  -webkit-animation-name: fontfix;\n",
      "  -webkit-animation-iteration-count: 1;\n",
      "  -webkit-animation-timing-function: linear;\n",
      "  -webkit-animation-delay: 0;\n",
      "  }\n",
      "  @-webk\n"
     ]
    }
   ],
   "source": [
    "import requests as req\n",
    "response = req.get('https://gmail.com/')\n",
    "print(response)\n",
    "print(response.text[0:1000])"
   ]
  },
  {
   "cell_type": "code",
   "execution_count": null,
   "id": "ba5e2700-47df-49cf-9581-9f63f6e4cf54",
   "metadata": {},
   "outputs": [],
   "source": [
    "\n"
   ]
  },
  {
   "cell_type": "code",
   "execution_count": null,
   "id": "4f6bdcc8-7e63-4980-b996-af9deabc42fd",
   "metadata": {},
   "outputs": [],
   "source": []
  },
  {
   "cell_type": "code",
   "execution_count": null,
   "id": "1ea104cf-d7ca-4058-acfb-d45b37f582f8",
   "metadata": {},
   "outputs": [],
   "source": []
  },
  {
   "cell_type": "code",
   "execution_count": null,
   "id": "ce7e5713-7b90-4806-b9af-e063234486de",
   "metadata": {},
   "outputs": [],
   "source": []
  }
 ],
 "metadata": {
  "kernelspec": {
   "display_name": "Python 3 (ipykernel)",
   "language": "python",
   "name": "python3"
  },
  "language_info": {
   "codemirror_mode": {
    "name": "ipython",
    "version": 3
   },
   "file_extension": ".py",
   "mimetype": "text/x-python",
   "name": "python",
   "nbconvert_exporter": "python",
   "pygments_lexer": "ipython3",
   "version": "3.7.3"
  }
 },
 "nbformat": 4,
 "nbformat_minor": 5
}
