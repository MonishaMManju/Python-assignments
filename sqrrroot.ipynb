{
 "cells": [
  {
   "cell_type": "code",
   "execution_count": null,
   "id": "65d28652-6b3f-4bef-afde-c098959779ec",
   "metadata": {},
   "outputs": [
    {
     "name": "stderr",
     "output_type": "stream",
     "text": [
      " * Running on http://localhost:24465/ (Press CTRL+C to quit)\n",
      "127.0.0.1 - - [24/Nov/2021 19:57:00] \"GET / HTTP/1.1\" 200 -\n",
      "127.0.0.1 - - [24/Nov/2021 19:57:00] \"GET /favicon.ico HTTP/1.1\" 404 -\n",
      "127.0.0.1 - - [24/Nov/2021 19:57:07] \"GET /home/cuberoot/81 HTTP/1.1\" 200 -\n"
     ]
    }
   ],
   "source": [
    "from werkzeug.wrappers import Request,Response\n",
    "from flask import Flask,jsonify,request\n",
    "import math\n",
    "app=Flask(__name__)\n",
    "@app.route('/',methods=['GET', 'POST'])\n",
    "def home():\n",
    "    if(request.method == 'GET'):\n",
    "        data=\"HELLO!\"\n",
    "        return jsonify({'data':data})\n",
    "@app.route('/home/sqrroot/<int:num>',methods=['GET'])\n",
    "def sqrroot(num):\n",
    "    return jsonify({'square root':math.pow(num,(1/2))})\n",
    "@app.route('/home/cuberoot/<int:num>',methods=['GET'])\n",
    "def cuberoot(num):\n",
    "    return jsonify({'cube root':math.pow(num,(1/3))})\n",
    "@app.route('/home/interest/<int:num1>/<int:num2>/<int:num3>',methods=['GET'])\n",
    "def interest(num1,num2,num3):\n",
    "    return jsonify({'simple interest':(num1*num2*num3)/100})\n",
    "if __name__ =='__main__':\n",
    "    from werkzeug.serving import run_simple\n",
    "    run_simple('localhost',90001,app)"
   ]
  },
  {
   "cell_type": "code",
   "execution_count": null,
   "id": "505ee420-f821-4338-a431-f74d36cd4254",
   "metadata": {},
   "outputs": [],
   "source": []
  }
 ],
 "metadata": {
  "kernelspec": {
   "display_name": "Python 3 (ipykernel)",
   "language": "python",
   "name": "python3"
  },
  "language_info": {
   "codemirror_mode": {
    "name": "ipython",
    "version": 3
   },
   "file_extension": ".py",
   "mimetype": "text/x-python",
   "name": "python",
   "nbconvert_exporter": "python",
   "pygments_lexer": "ipython3",
   "version": "3.8.10"
  }
 },
 "nbformat": 4,
 "nbformat_minor": 5
}
