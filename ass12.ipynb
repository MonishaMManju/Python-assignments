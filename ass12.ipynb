{
 "cells": [
  {
   "cell_type": "code",
   "execution_count": 7,
   "id": "6aa2b23f-88b7-4a91-a311-4e2fc97a97d3",
   "metadata": {},
   "outputs": [
    {
     "name": "stdout",
     "output_type": "stream",
     "text": [
      "<re.Match object; span=(1, 2), match='o'>\n"
     ]
    }
   ],
   "source": [
    "import re\n",
    "print(re.search(r'[^M]',\"Monisha\"))"
   ]
  },
  {
   "cell_type": "code",
   "execution_count": 62,
   "id": "af5559d7-f653-480f-ac91-a9b2c0788641",
   "metadata": {},
   "outputs": [
    {
     "name": "stdout",
     "output_type": "stream",
     "text": [
      "<re.Match object; span=(0, 3), match='set'>\n"
     ]
    }
   ],
   "source": [
    "print(re.search(r'^[a-z]+',\"set of instructions\"))"
   ]
  },
  {
   "cell_type": "code",
   "execution_count": 33,
   "id": "551328b0-6886-40ae-bbec-13aee081e417",
   "metadata": {},
   "outputs": [
    {
     "name": "stdout",
     "output_type": "stream",
     "text": [
      "Range <re.Match object; span=(3, 4), match='i'>\n"
     ]
    }
   ],
   "source": [
    "print('Range',re.search(r'[a-l]','monisha'))"
   ]
  },
  {
   "cell_type": "code",
   "execution_count": 6,
   "id": "45c046a3-bf03-4bcd-bced-9ce74ac396e0",
   "metadata": {},
   "outputs": [
    {
     "name": "stdout",
     "output_type": "stream",
     "text": [
      "<re.Match object; span=(0, 3), match='set'>\n"
     ]
    }
   ],
   "source": [
    "import re\n",
    "match=print(re.search(r'^[a-z]+',\"set of instructions\"))"
   ]
  },
  {
   "cell_type": "code",
   "execution_count": 7,
   "id": "0c8f6d70-89b0-46a6-9b27-547e5bb0a18a",
   "metadata": {},
   "outputs": [
    {
     "name": "stdout",
     "output_type": "stream",
     "text": [
      "None\n"
     ]
    }
   ],
   "source": [
    "import re\n",
    "match=print(re.search(r'^[a-l]+',\"set of instructions\"))"
   ]
  },
  {
   "cell_type": "code",
   "execution_count": null,
   "id": "0e3ca79d-9f61-4ddd-9a1e-13728a9eaa60",
   "metadata": {},
   "outputs": [],
   "source": []
  }
 ],
 "metadata": {
  "kernelspec": {
   "display_name": "Python 3 (ipykernel)",
   "language": "python",
   "name": "python3"
  },
  "language_info": {
   "codemirror_mode": {
    "name": "ipython",
    "version": 3
   },
   "file_extension": ".py",
   "mimetype": "text/x-python",
   "name": "python",
   "nbconvert_exporter": "python",
   "pygments_lexer": "ipython3",
   "version": "3.7.3"
  }
 },
 "nbformat": 4,
 "nbformat_minor": 5
}
