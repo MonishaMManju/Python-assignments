{
 "cells": [
  {
   "cell_type": "code",
   "execution_count": 9,
   "id": "972eed63-974a-4536-9e08-9ff34dce18e1",
   "metadata": {},
   "outputs": [],
   "source": [
    "\n",
    "        \n",
    "        "
   ]
  },
  {
   "cell_type": "code",
   "execution_count": 12,
   "id": "681d0bd0-78e9-4a3d-8aa4-2701127ba035",
   "metadata": {},
   "outputs": [
    {
     "name": "stdout",
     "output_type": "stream",
     "text": [
      "Abhishek\n",
      "electronics\n",
      "kiran\n",
      "HR\n"
     ]
    }
   ],
   "source": [
    "class Employee:\n",
    "    def __init__(self,name,dept):\n",
    "        self.name=name\n",
    "        self.dept = dept\n",
    "employee1 = Employee(\"Abhishek\",\"electronics\")\n",
    "\n",
    "print(employee1.name)\n",
    "print(employee1.dept)\n",
    "\n",
    "employee2 = Employee(\"kiran\",\"HR\")\n",
    "\n",
    "print(employee2.name)\n",
    "print(employee2.dept)"
   ]
  },
  {
   "cell_type": "code",
   "execution_count": 7,
   "id": "ec5bd508-b1c1-4f24-9bad-abc063f163d3",
   "metadata": {},
   "outputs": [
    {
     "name": "stdout",
     "output_type": "stream",
     "text": [
      "employee1 details:\n",
      "NAME:  Abhishek\n",
      "DEPARTMENT:  Software testing\n",
      "\n",
      "employee2 details:\n",
      "NAME:  Kiran\n",
      "DEPARTMENT:  HR\n"
     ]
    }
   ],
   "source": [
    "class Employee:            \n",
    "    def __init__(self, name, dept):    \n",
    "        self.name = name\n",
    "        self.dept = dept       \n",
    "employee1 = Employee(\"Abhishek\", \"Software testing\")\n",
    "employee2 = Employee(\"Kiran\", \"HR\")\n",
    " \n",
    "print('employee1 details:')  \n",
    "print('NAME: ', employee1.name)\n",
    "print('DEPARTMENT: ',employee1.dept)\n",
    "\n",
    "print('\\nemployee2 details:')  \n",
    "print('NAME: ', employee2.name)\n",
    "print('DEPARTMENT: ',employee2.dept)\n",
    " \n"
   ]
  },
  {
   "cell_type": "code",
   "execution_count": null,
   "id": "87bfdbb4-4762-41fc-8c1d-cf3da9bb2a27",
   "metadata": {},
   "outputs": [],
   "source": []
  }
 ],
 "metadata": {
  "kernelspec": {
   "display_name": "Python 3 (ipykernel)",
   "language": "python",
   "name": "python3"
  },
  "language_info": {
   "codemirror_mode": {
    "name": "ipython",
    "version": 3
   },
   "file_extension": ".py",
   "mimetype": "text/x-python",
   "name": "python",
   "nbconvert_exporter": "python",
   "pygments_lexer": "ipython3",
   "version": "3.7.3"
  }
 },
 "nbformat": 4,
 "nbformat_minor": 5
}
