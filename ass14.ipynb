{
 "cells": [
  {
   "cell_type": "code",
   "execution_count": 20,
   "id": "eca570b3-614e-406f-80ff-81cdf4960efa",
   "metadata": {},
   "outputs": [
    {
     "name": "stdout",
     "output_type": "stream",
     "text": [
      "#1619 \n",
      " 5th cross out house \n",
      " Hoskeri \n",
      " K R Mohalla \n",
      " Mysuru\n"
     ]
    }
   ],
   "source": [
    "file =open(\"Monisha.txt\",\"w+\")\n",
    "file.writelines(['#1619 \\n 5th cross out house \\n Hoskeri \\n K R Mohalla \\n Mysuru'])\n",
    "file =open(\"Monisha.txt\",\"r\")\n",
    "print(file.read())\n",
    "file.close()"
   ]
  },
  {
   "cell_type": "code",
   "execution_count": null,
   "id": "53d3b6fd-348b-4bf2-a1f0-f76b5f198192",
   "metadata": {},
   "outputs": [],
   "source": []
  },
  {
   "cell_type": "code",
   "execution_count": null,
   "id": "3a7fea63-d1fb-4002-9b31-895f4c45bb0a",
   "metadata": {},
   "outputs": [],
   "source": []
  }
 ],
 "metadata": {
  "kernelspec": {
   "display_name": "Python 3 (ipykernel)",
   "language": "python",
   "name": "python3"
  },
  "language_info": {
   "codemirror_mode": {
    "name": "ipython",
    "version": 3
   },
   "file_extension": ".py",
   "mimetype": "text/x-python",
   "name": "python",
   "nbconvert_exporter": "python",
   "pygments_lexer": "ipython3",
   "version": "3.7.3"
  }
 },
 "nbformat": 4,
 "nbformat_minor": 5
}
