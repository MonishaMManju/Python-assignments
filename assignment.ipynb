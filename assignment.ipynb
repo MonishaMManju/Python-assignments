{
 "cells": [
  {
   "cell_type": "code",
   "execution_count": 2,
   "id": "3c203bab-0fdb-4c5f-a527-476d60ef0d2c",
   "metadata": {},
   "outputs": [
    {
     "name": "stdout",
     "output_type": "stream",
     "text": [
      "netzwerk\n",
      "netzwerk\n",
      "netzwerk\n",
      "netzwerk\n",
      "netzwerk\n",
      "netzwerk\n",
      "netzwerk\n",
      "netzwerk\n",
      "netzwerk\n",
      "netzwerk\n"
     ]
    }
   ],
   "source": [
    "count=0\n",
    "last=10\n",
    "while(count<last): print('netzwerk'); count+=1\n"
   ]
  },
  {
   "cell_type": "code",
   "execution_count": null,
   "id": "cb28e934-8b20-430c-b131-c3111c035007",
   "metadata": {},
   "outputs": [],
   "source": []
  },
  {
   "cell_type": "code",
   "execution_count": null,
   "id": "b193add0-455a-4f11-9635-5e740b6bd4a9",
   "metadata": {},
   "outputs": [],
   "source": []
  },
  {
   "cell_type": "code",
   "execution_count": 3,
   "id": "381d3ec4-a1e0-43d8-a944-05da19841d77",
   "metadata": {},
   "outputs": [
    {
     "name": "stdout",
     "output_type": "stream",
     "text": [
      " 1 1\n",
      " 1 1 1 1\n",
      " 1 1 1 1 1 1\n",
      " 1 1 1 1 1 1 1 1\n"
     ]
    }
   ],
   "source": [
    "n=4\n",
    "for i in range(0, n):\n",
    "    for j in range(0, i+1):\n",
    "        print(\" 1 1\",end=\"\")\n",
    "    print(\"\\r\")\n",
    "    \n",
    "    \n",
    " \n"
   ]
  },
  {
   "cell_type": "code",
   "execution_count": 15,
   "id": "c2ef4dc4-a55d-4bbe-8333-00a86a3d05c1",
   "metadata": {},
   "outputs": [
    {
     "name": "stdout",
     "output_type": "stream",
     "text": [
      "   1 1 \n",
      "  1 1 1 1 \n",
      " 1 1 1 1 1 1 \n",
      "1 1 1 1 1 1 1 1 \n",
      "1 1 1 1 1 1 1 1 \n",
      " 1 1 1 1 1 1 \n",
      "  1 1 1 1 \n",
      "   1 1 \n"
     ]
    }
   ],
   "source": [
    "\n",
    "    for i in range(4):\n",
    "        for j in range(4, i+1, -1):\n",
    "            print(end=\" \")\n",
    "        for k in range(i + 1):\n",
    "            print(end=\"1 1 \")\n",
    "        print()\n",
    "    for i in range(4):\n",
    "        for j in range(i):\n",
    "            print(end=\" \")\n",
    "        for k in range(i, 4):\n",
    "            print(end=\"1 1 \")\n",
    "        print()\n"
   ]
  },
  {
   "cell_type": "code",
   "execution_count": 4,
   "id": "68ea44bd-9e61-46c9-b05f-f1082bd3595c",
   "metadata": {},
   "outputs": [
    {
     "name": "stdout",
     "output_type": "stream",
     "text": [
      "['__annotations__', '__call__', '__class__', '__closure__', '__code__', '__defaults__', '__delattr__', '__dict__', '__dir__', '__doc__', '__eq__', '__format__', '__ge__', '__get__', '__getattribute__', '__globals__', '__gt__', '__hash__', '__init__', '__init_subclass__', '__kwdefaults__', '__le__', '__lt__', '__module__', '__name__', '__ne__', '__new__', '__qualname__', '__reduce__', '__reduce_ex__', '__repr__', '__setattr__', '__sizeof__', '__str__', '__subclasshook__']\n",
      "11\n"
     ]
    }
   ],
   "source": [
    "from M import *\n",
    "print(dir(addn))\n",
    "a=addn(5,6)\n",
    "print(a)"
   ]
  },
  {
   "cell_type": "code",
   "execution_count": null,
   "id": "aa969fb8-93ac-4862-9404-f5963a0962ee",
   "metadata": {},
   "outputs": [],
   "source": []
  },
  {
   "cell_type": "code",
   "execution_count": null,
   "id": "f8e2b8be-217a-4067-b965-2524b14e547a",
   "metadata": {},
   "outputs": [],
   "source": []
  },
  {
   "cell_type": "code",
   "execution_count": null,
   "id": "d43905a0-01bd-4a0d-8e91-d9c2d522c3b0",
   "metadata": {},
   "outputs": [],
   "source": []
  },
  {
   "cell_type": "code",
   "execution_count": null,
   "id": "7c7d8020-2ba5-4ddd-9aa5-95db3d0d5a90",
   "metadata": {},
   "outputs": [],
   "source": []
  },
  {
   "cell_type": "code",
   "execution_count": null,
   "id": "f7fff9cb-e8dd-43db-bd8d-aa1f09549436",
   "metadata": {},
   "outputs": [],
   "source": []
  }
 ],
 "metadata": {
  "kernelspec": {
   "display_name": "Python 3 (ipykernel)",
   "language": "python",
   "name": "python3"
  },
  "language_info": {
   "codemirror_mode": {
    "name": "ipython",
    "version": 3
   },
   "file_extension": ".py",
   "mimetype": "text/x-python",
   "name": "python",
   "nbconvert_exporter": "python",
   "pygments_lexer": "ipython3",
   "version": "3.8.10"
  }
 },
 "nbformat": 4,
 "nbformat_minor": 5
}
