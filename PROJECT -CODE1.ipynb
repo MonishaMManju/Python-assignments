{
 "cells": [
  {
   "cell_type": "code",
   "execution_count": 1,
   "id": "6d1365c0-0bf6-411b-9a04-9f1ca0a276b9",
   "metadata": {},
   "outputs": [],
   "source": [
    "from pymongo import MongoClient"
   ]
  },
  {
   "cell_type": "code",
   "execution_count": 2,
   "id": "314e4fee-a88e-45e7-805d-dbe34b3a3cef",
   "metadata": {
    "jupyter": {
     "source_hidden": true
    },
    "tags": []
   },
   "outputs": [],
   "source": [
    "client = MongoClient('localhost',27017)"
   ]
  },
  {
   "cell_type": "code",
   "execution_count": 3,
   "id": "a3758d5e-4673-473e-a082-26e272b8fef5",
   "metadata": {},
   "outputs": [],
   "source": [
    "db=client['project']"
   ]
  },
  {
   "cell_type": "code",
   "execution_count": 4,
   "id": "2dfd6852-f4cb-4e42-be3a-24fe39b2a159",
   "metadata": {},
   "outputs": [
    {
     "name": "stdout",
     "output_type": "stream",
     "text": [
      "['admin', 'config', 'local', 'project', 'student', 'stuent']\n"
     ]
    }
   ],
   "source": [
    "print(client.list_database_names())"
   ]
  },
  {
   "cell_type": "code",
   "execution_count": 5,
   "id": "ebe91682-b9ed-4f97-8585-5171396a2352",
   "metadata": {},
   "outputs": [],
   "source": [
    "student = db['student']\n"
   ]
  },
  {
   "cell_type": "code",
   "execution_count": 6,
   "id": "a93ca4d4-5e3f-4dd3-9b11-8476215279a7",
   "metadata": {},
   "outputs": [
    {
     "name": "stdout",
     "output_type": "stream",
     "text": [
      "{'_id': ObjectId('618924471225f545d0616d28'), 'studentid': '1'}\n",
      "{'_id': ObjectId('618924471225f545d0616d29'), 'studentname': 'Monisha'}\n",
      "{'_id': ObjectId('618924471225f545d0616d2a'), 'studentid': '2'}\n",
      "{'_id': ObjectId('618924471225f545d0616d2b'), 'studentname': 'Kiran'}\n",
      "{'_id': ObjectId('618924471225f545d0616d2c'), 'studentid': '3'}\n",
      "{'_id': ObjectId('618924471225f545d0616d2d'), 'studentname': 'Hemanth'}\n",
      "{'_id': ObjectId('6189484d1225f545d0616d3b'), 'course': \"ObjectId('618926a51225f545d0616d2e')\"}\n"
     ]
    }
   ],
   "source": [
    "for student in student.find():\n",
    "    print(student)"
   ]
  },
  {
   "cell_type": "code",
   "execution_count": 7,
   "id": "dd86bd46-4f30-4f22-9df9-c4f408db307a",
   "metadata": {},
   "outputs": [],
   "source": [
    "course =db['course']"
   ]
  },
  {
   "cell_type": "code",
   "execution_count": 8,
   "id": "12fdf179-5222-4643-8cec-9bf00b1118ab",
   "metadata": {},
   "outputs": [
    {
     "name": "stdout",
     "output_type": "stream",
     "text": [
      "{'_id': ObjectId('618926a51225f545d0616d2e'), 'courseid': '1'}\n",
      "{'_id': ObjectId('618926a51225f545d0616d2f'), 'coursename': 'Python'}\n",
      "{'_id': ObjectId('618926a51225f545d0616d30'), 'courseid': '2'}\n",
      "{'_id': ObjectId('618926a51225f545d0616d31'), 'coursename': 'Fullstack'}\n",
      "{'_id': ObjectId('618926a51225f545d0616d32'), 'courseid': '3'}\n",
      "{'_id': ObjectId('618926a51225f545d0616d33'), 'coursename': 'Datascience'}\n"
     ]
    }
   ],
   "source": [
    "for course in course.find():\n",
    "    print(course)"
   ]
  },
  {
   "cell_type": "code",
   "execution_count": 9,
   "id": "944e6f51-d61d-4c5f-8166-d5bbc82abd41",
   "metadata": {},
   "outputs": [],
   "source": [
    "tutor=db['tutor']"
   ]
  },
  {
   "cell_type": "code",
   "execution_count": 10,
   "id": "75b0acc8-1b3b-4c01-8e23-b2219bb4f2b2",
   "metadata": {},
   "outputs": [
    {
     "name": "stdout",
     "output_type": "stream",
     "text": [
      "{'_id': ObjectId('61892baa1225f545d0616d34'), 'tid': '1'}\n",
      "{'_id': ObjectId('61892baa1225f545d0616d35'), 'tutorname': 'PRK'}\n",
      "{'_id': ObjectId('61892baa1225f545d0616d36'), 'tid': '2'}\n",
      "{'_id': ObjectId('61892baa1225f545d0616d37'), 'tutorname': 'APS'}\n",
      "{'_id': ObjectId('61892baa1225f545d0616d38'), 'tid': '3'}\n",
      "{'_id': ObjectId('61892baa1225f545d0616d39'), 'tutorname': 'RMN'}\n"
     ]
    }
   ],
   "source": [
    "for tutor in tutor.find():\n",
    "    print(tutor)"
   ]
  },
  {
   "cell_type": "code",
   "execution_count": 11,
   "id": "0f4a1b4e-75dd-483f-a84b-21638034d5d4",
   "metadata": {},
   "outputs": [],
   "source": [
    "timings = db['timings']"
   ]
  },
  {
   "cell_type": "code",
   "execution_count": 12,
   "id": "5cea460a-23ba-425a-853d-343ca5b2c7cc",
   "metadata": {},
   "outputs": [
    {
     "name": "stdout",
     "output_type": "stream",
     "text": [
      "{'_id': ObjectId('61892f2f972b5b20e6c105c0'), 'tid': '1'}\n",
      "{'_id': ObjectId('61892f2f972b5b20e6c105c1'), 'time': '6PM'}\n",
      "{'_id': ObjectId('61892f2f972b5b20e6c105c2'), 'tid': '2'}\n",
      "{'_id': ObjectId('61892f2f972b5b20e6c105c3'), 'time': '7PM'}\n",
      "{'_id': ObjectId('61892f2f972b5b20e6c105c4'), 'tid': '3'}\n",
      "{'_id': ObjectId('61892f2f972b5b20e6c105c5'), 'time': '8PM'}\n"
     ]
    }
   ],
   "source": [
    "for timings in timings.find():\n",
    "    print(timings)"
   ]
  },
  {
   "cell_type": "code",
   "execution_count": null,
   "id": "51cd9fa7-029a-45ce-adcb-2a0f52f51c80",
   "metadata": {},
   "outputs": [],
   "source": []
  },
  {
   "cell_type": "code",
   "execution_count": null,
   "id": "0e50f014-9086-45b4-b5b5-cd23410deea1",
   "metadata": {},
   "outputs": [],
   "source": []
  },
  {
   "cell_type": "code",
   "execution_count": null,
   "id": "af17c615-1879-41ce-9a10-0e1e550ddd5c",
   "metadata": {},
   "outputs": [],
   "source": []
  },
  {
   "cell_type": "code",
   "execution_count": null,
   "id": "fa70732e-1f5d-420b-bf2b-218b3faf3c52",
   "metadata": {},
   "outputs": [],
   "source": []
  }
 ],
 "metadata": {
  "kernelspec": {
   "display_name": "Python 3 (ipykernel)",
   "language": "python",
   "name": "python3"
  },
  "language_info": {
   "codemirror_mode": {
    "name": "ipython",
    "version": 3
   },
   "file_extension": ".py",
   "mimetype": "text/x-python",
   "name": "python",
   "nbconvert_exporter": "python",
   "pygments_lexer": "ipython3",
   "version": "3.8.10"
  }
 },
 "nbformat": 4,
 "nbformat_minor": 5
}
